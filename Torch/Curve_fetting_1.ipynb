{
 "cells": [
  {
   "cell_type": "code",
   "execution_count": 4,
   "metadata": {},
   "outputs": [],
   "source": [
    "import torch\n",
    "import torch.nn as nn"
   ]
  },
  {
   "cell_type": "code",
   "execution_count": 5,
   "metadata": {},
   "outputs": [],
   "source": [
    "\n",
    "def backward(tensors, grad_tensors=None, retain_graph=False, create_graph=False):\n",
    "    if grad_tensors is None:\n",
    "        grad_tensors = [None] * len(tensors)\n",
    "    else:\n",
    "        grad_tensors = list(grad_tensors)\n",
    "\n",
    "    grad_tensors = _make_grads(tensors, grad_tensors)\n",
    "\n",
    "    if create_graph and not retain_graph:\n",
    "        retain_graph = True\n",
    "\n",
    "    torch.autograd.backward(tensors, grad_tensors, retain_graph=retain_graph, create_graph=create_graph)\n"
   ]
  },
  {
   "cell_type": "code",
   "execution_count": 6,
   "metadata": {},
   "outputs": [],
   "source": [
    "### CrEating the Model of the Neural Network\n",
    "class MnistModel(nn.Module):\n",
    "    ## We are creating feed forward neural network with one hidden layer\n",
    "    def __init__(self , input_size, hidden_size, output_size):\n",
    "        super().__init__()\n",
    "        ## Hidden Layer\n",
    "        self.Linear1 = nn.Linear(input_size, hidden_size)\n",
    "        ## Output Layer\n",
    "        self.Linear2 = nn.Linear(hidden_size, output_size)\n",
    "\n",
    "    def forward(self, xb):\n",
    "        ## Flatten the image tensors\n",
    "        xb = xb.view(xb.size(0), -1)\n",
    "        ## We can also use xb = xb.reshape(xb.size(0), -1)\n",
    "        ## Get intermediate outputs using hidden layer\n",
    "        out = self.Linear1(xb)\n",
    "        ## Apply activation function\n",
    "        out = F.relu(out)\n",
    "        ## Get predictions using output layer\n",
    "        out = self.Linear2(out)\n",
    "        return out\n",
    "\n",
    "    def training_step(self, batch):\n",
    "        images, labels = batch\n",
    "        out = self(images)\n",
    "        ## Self is the model itself\n",
    "        ## It will internally invoke the forward method andd will generate the output\n",
    "        loss = F.cross_entropy(out, labels)\n",
    "        return loss\n",
    "\n",
    "    def validation_step(self, batch):\n",
    "        images, labels = batch\n",
    "        out = self(images)\n",
    "        loss = F.cross_entropy(out, labels)\n",
    "        acc = accuracy(out, labels)\n",
    "        return {'val_loss': loss, 'val_acc': acc}\n",
    "\n",
    "    def validation_epoch_end(self, outputs):\n",
    "        batch_losses = [x['val_loss'] for x in outputs]\n",
    "        epoch_loss = torch.stack(batch_losses).mean()\n",
    "        batch_accs = [x['val_acc'] for x in outputs]\n",
    "        epoch_acc = torch.stack(batch_accs).mean()\n",
    "        return {'val_loss': epoch_loss.item(), 'val_acc': epoch_acc.item()}\n",
    "    \n",
    "    def epoch_end(self, epoch, result):\n",
    "        print(\"Epoch [{}], val_loss: {:.4f}, val_acc: {:.4f}\".format(epoch, result['val_loss'], result['val_acc']))\n",
    "\n",
    "        \n",
    "\n",
    "## In This Program actually we are defining a class all of these function will be used when we train the model i.e. when we define our fit function"
   ]
  },
  {
   "cell_type": "code",
   "execution_count": 7,
   "metadata": {},
   "outputs": [],
   "source": [
    "def evaluate(model, val_loader):\n",
    "    outputs = [model.validation_step(batch) for batch in val_loader]\n",
    "    return model.validation_epoch_end(outputs)"
   ]
  },
  {
   "cell_type": "code",
   "execution_count": 9,
   "metadata": {},
   "outputs": [],
   "source": [
    "def fit(epochs , lr, model , train_loader, val_loader , opt_function = torch.optim.Adam):\n",
    "    history = []\n",
    "    optimizer = opt_function(model.parameters(), lr)\n",
    "    # We are mentionning for how meny epoches we need to run the weight update i.e. Traning\n",
    "    for epoch in range(epochs):\n",
    "        ## Traning Phase\n",
    "        for batch in train_loader:\n",
    "            ## Loading the data\n",
    "            loass = model.training_step(batch)\n",
    "            loss.backward()\n",
    "            ## Calculating the gradients\n",
    "            optimizer.step()\n",
    "            ## wpdating the weights based upion the optimizers\n",
    "            optimizer.zero_grad()\n",
    "            ## Reset the gradients to zero\n",
    "        ## Vlidatio Phase\n",
    "        result  = evaulate(model, val_loader)\n",
    "        model.epoch_end(epoch,result)\n",
    "        history.append(result)\n",
    "    return history\n",
    "        "
   ]
  },
  {
   "cell_type": "code",
   "execution_count": null,
   "metadata": {},
   "outputs": [],
   "source": []
  }
 ],
 "metadata": {
  "kernelspec": {
   "display_name": "Python 3",
   "language": "python",
   "name": "python3"
  },
  "language_info": {
   "codemirror_mode": {
    "name": "ipython",
    "version": 3
   },
   "file_extension": ".py",
   "mimetype": "text/x-python",
   "name": "python",
   "nbconvert_exporter": "python",
   "pygments_lexer": "ipython3",
   "version": "3.10.13"
  }
 },
 "nbformat": 4,
 "nbformat_minor": 2
}
